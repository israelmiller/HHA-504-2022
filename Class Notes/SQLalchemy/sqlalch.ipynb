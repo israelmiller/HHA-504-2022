{
 "cells": [
  {
   "cell_type": "markdown",
   "metadata": {},
   "source": [
    "## Connect to MYSQL Database with SQLalchemy"
   ]
  },
  {
   "cell_type": "code",
   "execution_count": 13,
   "metadata": {},
   "outputs": [],
   "source": [
    "##import SQLalchemy and pa\n",
    "from sqlalchemy import create_engine\n",
    "import pandas as pd"
   ]
  },
  {
   "cell_type": "code",
   "execution_count": 14,
   "metadata": {},
   "outputs": [],
   "source": [
    "#Define variables for the engine\n",
    "\n",
    "MYSQL_HOSTNAME = '34.170.20.222'\n",
    "MYSQL_USERNAME = 'dba'\n",
    "MYSQL_PASSWORD = 'ahi2020'\n",
    "MYSQL_DATABASE = 'temp'"
   ]
  },
  {
   "cell_type": "code",
   "execution_count": 15,
   "metadata": {},
   "outputs": [],
   "source": [
    "#Create the engine\n",
    "engine = create_engine(f'mysql+pymysql://{MYSQL_USERNAME}:{MYSQL_PASSWORD}@{MYSQL_HOSTNAME}/{MYSQL_DATABASE}')\n",
    "\n",
    "#define a query\n",
    "query = \"\"\"SELECT * FROM temp.table1;\"\"\""
   ]
  },
  {
   "cell_type": "code",
   "execution_count": 32,
   "metadata": {},
   "outputs": [],
   "source": [
    "df = pd.read_sql(query, con=engine)\n",
    "\n",
    "test_df = pd.read_csv('patients.csv')\n",
    "test_df_small = test_df.head(10)\n"
   ]
  },
  {
   "cell_type": "code",
   "execution_count": 30,
   "metadata": {},
   "outputs": [
    {
     "data": {
      "text/plain": [
       "['Id',\n",
       " 'BIRTHDATE',\n",
       " 'DEATHDATE',\n",
       " 'SSN',\n",
       " 'DRIVERS',\n",
       " 'PASSPORT',\n",
       " 'PREFIX',\n",
       " 'FIRST',\n",
       " 'LAST',\n",
       " 'SUFFIX',\n",
       " 'MAIDEN',\n",
       " 'MARITAL',\n",
       " 'RACE',\n",
       " 'ETHNICITY',\n",
       " 'GENDER',\n",
       " 'BIRTHPLACE',\n",
       " 'ADDRESS',\n",
       " 'CITY',\n",
       " 'STATE',\n",
       " 'COUNTY',\n",
       " 'ZIP',\n",
       " 'LAT',\n",
       " 'LON',\n",
       " 'HEALTHCARE_EXPENSES',\n",
       " 'HEALTHCARE_COVERAGE']"
      ]
     },
     "execution_count": 30,
     "metadata": {},
     "output_type": "execute_result"
    }
   ],
   "source": [
    "list(test_df)"
   ]
  },
  {
   "cell_type": "code",
   "execution_count": 33,
   "metadata": {},
   "outputs": [
    {
     "data": {
      "text/plain": [
       "10"
      ]
     },
     "execution_count": 33,
     "metadata": {},
     "output_type": "execute_result"
    }
   ],
   "source": [
    "test_df_small.to_sql('patients', con=engine, if_exists='replace')"
   ]
  }
 ],
 "metadata": {
  "kernelspec": {
   "display_name": "Python 3.9.12 ('base')",
   "language": "python",
   "name": "python3"
  },
  "language_info": {
   "codemirror_mode": {
    "name": "ipython",
    "version": 3
   },
   "file_extension": ".py",
   "mimetype": "text/x-python",
   "name": "python",
   "nbconvert_exporter": "python",
   "pygments_lexer": "ipython3",
   "version": "3.9.12"
  },
  "orig_nbformat": 4,
  "vscode": {
   "interpreter": {
    "hash": "2426c27b3d4358b4854808f4ee0ce0f5f1fa773e1ec013bafb32e978441c4793"
   }
  }
 },
 "nbformat": 4,
 "nbformat_minor": 2
}
